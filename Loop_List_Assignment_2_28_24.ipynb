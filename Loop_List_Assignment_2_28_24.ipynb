{
  "nbformat": 4,
  "nbformat_minor": 0,
  "metadata": {
    "colab": {
      "provenance": [],
      "authorship_tag": "ABX9TyM0MeuvBQYuz9rQaKOL+O73",
      "include_colab_link": true
    },
    "kernelspec": {
      "name": "python3",
      "display_name": "Python 3"
    },
    "language_info": {
      "name": "python"
    }
  },
  "cells": [
    {
      "cell_type": "markdown",
      "metadata": {
        "id": "view-in-github",
        "colab_type": "text"
      },
      "source": [
        "<a href=\"https://colab.research.google.com/github/mcf217/Mason-Fish/blob/main/Loop_List_Assignment_2_28_24.ipynb\" target=\"_parent\"><img src=\"https://colab.research.google.com/assets/colab-badge.svg\" alt=\"Open In Colab\"/></a>"
      ]
    },
    {
      "cell_type": "code",
      "execution_count": null,
      "metadata": {
        "id": "ceHqr3tgYJEc"
      },
      "outputs": [],
      "source": [
        "L=[]\n",
        "while True:\n",
        "  num1=int(input('Enter Value: '))\n",
        "  if num1==0:\n",
        "    print('0 Invalid Value: List Terminated')\n",
        "    break\n",
        "  else:\n",
        "    L.append(num1)\n",
        "    print(\"List:\",L)\n",
        "    continue"
      ]
    }
  ]
}
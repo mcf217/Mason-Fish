{
  "nbformat": 4,
  "nbformat_minor": 0,
  "metadata": {
    "colab": {
      "provenance": [],
      "authorship_tag": "ABX9TyOJxFJA5SY453daWBOB/rBl",
      "include_colab_link": true
    },
    "kernelspec": {
      "name": "python3",
      "display_name": "Python 3"
    },
    "language_info": {
      "name": "python"
    }
  },
  "cells": [
    {
      "cell_type": "markdown",
      "metadata": {
        "id": "view-in-github",
        "colab_type": "text"
      },
      "source": [
        "<a href=\"https://colab.research.google.com/github/mcf217/Mason-Fish/blob/main/Date_Assignment_2_21_24.ipynb\" target=\"_parent\"><img src=\"https://colab.research.google.com/assets/colab-badge.svg\" alt=\"Open In Colab\"/></a>"
      ]
    },
    {
      "cell_type": "code",
      "execution_count": 7,
      "metadata": {
        "colab": {
          "base_uri": "https://localhost:8080/"
        },
        "id": "D_Hb3boGNlVy",
        "outputId": "6f8d103a-2b49-4a34-fc2b-2fd6cffd5d88"
      },
      "outputs": [
        {
          "output_type": "stream",
          "name": "stdout",
          "text": [
            "enter the date: DD/MM/YYYY02/08/2004\n",
            "Date:02\n",
            "Month:08\n",
            "Year:2004\n"
          ]
        }
      ],
      "source": [
        "date = input(\"enter the date: DD/MM/YYYY\")\n",
        "print(\"Date:\" + date[0:2])\n",
        "print(\"Month:\" + date[3:5])\n",
        "print(\"Year:\" + date[6:10])\n",
        "\n",
        ""
      ]
    }
  ]
}
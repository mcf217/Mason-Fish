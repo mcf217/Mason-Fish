{
  "nbformat": 4,
  "nbformat_minor": 0,
  "metadata": {
    "colab": {
      "provenance": [],
      "authorship_tag": "ABX9TyPfn0YQM9ilpp2Y2BtNTGyc",
      "include_colab_link": true
    },
    "kernelspec": {
      "name": "python3",
      "display_name": "Python 3"
    },
    "language_info": {
      "name": "python"
    }
  },
  "cells": [
    {
      "cell_type": "markdown",
      "metadata": {
        "id": "view-in-github",
        "colab_type": "text"
      },
      "source": [
        "<a href=\"https://colab.research.google.com/github/mcf217/Mason-Fish/blob/main/Design_Calculator_Problem_2_12.ipynb\" target=\"_parent\"><img src=\"https://colab.research.google.com/assets/colab-badge.svg\" alt=\"Open In Colab\"/></a>"
      ]
    },
    {
      "cell_type": "code",
      "execution_count": null,
      "metadata": {
        "id": "fXqGyFiW51LL"
      },
      "outputs": [],
      "source": []
    },
    {
      "cell_type": "code",
      "source": [
        "while True:\n",
        "  num1 = float(input('enter first value'))\n",
        "  num2 = float(input('enter first value'))\n",
        "  operator = input('Enter the operator')\n",
        "\n",
        "  if operator == 'break':\n",
        "    break\n",
        "    print('Goodbye!')\n",
        "\n",
        "  if operator == \"+\":\n",
        "    answer = num1+num2\n",
        "  elif operator == \"-\":\n",
        "    answer = num1-num2\n",
        "  elif operator == \"*\":\n",
        "    answer = num1*num2\n",
        "  elif operator == \"/\":\n",
        "    answer = num1/num2\n",
        "  elif operator == \"//\":\n",
        "    answer = num1//num2\n",
        "  elif operator == \"**\":\n",
        "    answer = num1**num2\n",
        "  elif operator == \"%\":\n",
        "    answer = num1%num2\n",
        "  else:\n",
        "    print('invalid operator:', operator)\n",
        "    continue\n",
        "  print('result:', answer)"
      ],
      "metadata": {
        "colab": {
          "base_uri": "https://localhost:8080/"
        },
        "id": "yL-ufqOSH9yQ",
        "outputId": "5f1276bf-b7dc-40a7-fc30-4261787ee558"
      },
      "execution_count": null,
      "outputs": [
        {
          "name": "stdout",
          "output_type": "stream",
          "text": [
            "enter first value1\n",
            "enter first value2\n",
            "Enter the operator*\n",
            "result: 2.0\n",
            "enter first value0\n",
            "enter first value0\n",
            "Enter the operatorbreak\n"
          ]
        }
      ]
    }
  ]
}
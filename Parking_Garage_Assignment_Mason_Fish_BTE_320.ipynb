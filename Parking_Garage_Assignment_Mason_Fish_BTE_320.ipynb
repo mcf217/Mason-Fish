{
  "nbformat": 4,
  "nbformat_minor": 0,
  "metadata": {
    "colab": {
      "provenance": [],
      "authorship_tag": "ABX9TyMLwe4rJ7ABppxDaKZWJ/P8",
      "include_colab_link": true
    },
    "kernelspec": {
      "name": "python3",
      "display_name": "Python 3"
    },
    "language_info": {
      "name": "python"
    }
  },
  "cells": [
    {
      "cell_type": "markdown",
      "metadata": {
        "id": "view-in-github",
        "colab_type": "text"
      },
      "source": [
        "<a href=\"https://colab.research.google.com/github/mcf217/Mason-Fish/blob/main/Parking_Garage_Assignment_Mason_Fish_BTE_320.ipynb\" target=\"_parent\"><img src=\"https://colab.research.google.com/assets/colab-badge.svg\" alt=\"Open In Colab\"/></a>"
      ]
    },
    {
      "cell_type": "code",
      "execution_count": 2,
      "metadata": {
        "colab": {
          "base_uri": "https://localhost:8080/"
        },
        "id": "YlrFuxeAHBSa",
        "outputId": "81bff3dd-6ab1-4ca5-86fb-eb6cffa46ce0"
      },
      "outputs": [
        {
          "output_type": "stream",
          "name": "stdout",
          "text": [
            "How Many Hours do you Wish to Park Today? 1\n",
            "Total fee:$6\n"
          ]
        }
      ],
      "source": [
        "def getParkingHours():\n",
        "  hours = int(input(\"How Many Hours do you Wish to Park Today? \"))\n",
        "  return hours\n",
        "\n",
        "def calcParkingFee(h):\n",
        "  fee = 2.5 * h\n",
        "  if fee<=6:\n",
        "    return 6\n",
        "  elif fee>=20:\n",
        "    return 20\n",
        "  else:\n",
        "    return fee\n",
        "\n",
        "hours= getParkingHours()\n",
        "fee = calcParkingFee(hours)\n",
        "print(f'Total fee:${fee}')"
      ]
    }
  ]
}
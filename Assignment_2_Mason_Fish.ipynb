{
  "nbformat": 4,
  "nbformat_minor": 0,
  "metadata": {
    "colab": {
      "provenance": [],
      "authorship_tag": "ABX9TyP1SIQUWIYcHhXbzT+GR72r",
      "include_colab_link": true
    },
    "kernelspec": {
      "name": "python3",
      "display_name": "Python 3"
    },
    "language_info": {
      "name": "python"
    }
  },
  "cells": [
    {
      "cell_type": "markdown",
      "metadata": {
        "id": "view-in-github",
        "colab_type": "text"
      },
      "source": [
        "<a href=\"https://colab.research.google.com/github/mcf217/Mason-Fish/blob/main/Assignment_2_Mason_Fish.ipynb\" target=\"_parent\"><img src=\"https://colab.research.google.com/assets/colab-badge.svg\" alt=\"Open In Colab\"/></a>"
      ]
    },
    {
      "cell_type": "markdown",
      "source": [
        "Assignment Part 1\n"
      ],
      "metadata": {
        "id": "OOlRWS92MkyO"
      }
    },
    {
      "cell_type": "code",
      "execution_count": null,
      "metadata": {
        "colab": {
          "base_uri": "https://localhost:8080/"
        },
        "id": "VxHCcCHXMXXb",
        "outputId": "b01c5c20-a356-4724-d630-77cfc760bd6e"
      },
      "outputs": [
        {
          "output_type": "stream",
          "name": "stdout",
          "text": [
            "Enter the Number of Values:3\n",
            "Enter Value 1:10\n",
            "Enter Value 2:15\n",
            "Enter Value 3:20\n",
            "Average Except for the First Two Values Given 20.0\n"
          ]
        }
      ],
      "source": [
        "def getValues(n):\n",
        "  values = []\n",
        "  for i in range(n):\n",
        "    value = float(input(f\"Enter Value {i+1}:\"))\n",
        "    values.append(value)\n",
        "  return values\n",
        "\n",
        "def calcAverage(alist):\n",
        "  if len(alist)<3:\n",
        "    return \"Insufficient Values to Calculate Average\"\n",
        "  else:\n",
        "      return sum(alist[2:]) / (len(alist)-2)\n",
        "\n",
        "def main():\n",
        "  n = int(input(\"Enter the Number of Values:\"))\n",
        "  values=getValues(n)\n",
        "  average = calcAverage(values)\n",
        "  print(\"Average Except for the First Two Values Given\",average)\n",
        "\n",
        "main()"
      ]
    },
    {
      "cell_type": "markdown",
      "source": [
        "Assignment Part 2\n"
      ],
      "metadata": {
        "id": "0gsSom98OcgO"
      }
    },
    {
      "cell_type": "code",
      "source": [
        "allData = {\n",
        "  'USA':{'pop': 325.7,\"gdp\": 19.39,'ccy':'USD','fx': 1.0},\n",
        "  'CA':{'pop': 36.5,\"gdp\": 1.65,'ccy':'CAD','fx': 1.35},\n",
        "  'MX':{'pop': 129.2,\"gdp\": 1.15,'ccy':'MXN','fx': 19.68},\n",
        "}\n",
        "\n",
        "while True:\n",
        "    country_code= input(\"PLease Enter a Country Code (USA, CA, MX) \")\n",
        "    if country_code not in allData:\n",
        "      print(\"Invalid Country Code, Please Enter a VALID Country Code \")\n",
        "      continue\n",
        "\n",
        "    measure_name = input(\"Please Enter a Specific Satistic (pop, gdp, ccy, fx) \")\n",
        "    if measure_name not in allData[country_code]:\n",
        "      print (\"Invalid Statistic, Please Enter VALID Statistic \")\n",
        "      continue\n",
        "\n",
        "    value=allData[country_code][measure_name]\n",
        "    print(f\"{country_code} {measure_name} = {value}\")"
      ],
      "metadata": {
        "id": "iEB8At2AOekO"
      },
      "execution_count": null,
      "outputs": []
    },
    {
      "cell_type": "markdown",
      "source": [
        "Assignment Part 3"
      ],
      "metadata": {
        "id": "EUnhtiCpSLX6"
      }
    },
    {
      "cell_type": "code",
      "source": [
        "def getParkingHours():\n",
        "  hours = int(input(\"How Many Hours do you Wish to Park Today? \"))\n",
        "  return hours\n",
        "\n",
        "def calcParkingFee(h):\n",
        "  fee = 2.5 * h\n",
        "  if fee<=6:\n",
        "    return 6\n",
        "  elif fee>=20:\n",
        "    return 20\n",
        "  else:\n",
        "    return fee\n",
        "\n",
        "hours= getParkingHours()\n",
        "fee = calcParkingFee(hours)\n",
        "print(f'Total fee:${fee}')"
      ],
      "metadata": {
        "colab": {
          "base_uri": "https://localhost:8080/"
        },
        "id": "KaGOHIF1SAEd",
        "outputId": "a2ba4b44-b2e3-4d4b-f4c0-5e2c1f456b7c"
      },
      "execution_count": null,
      "outputs": [
        {
          "output_type": "stream",
          "name": "stdout",
          "text": [
            "How Many Hours do you Wish to Park Today? 1000000\n",
            "Total fee:$20\n"
          ]
        }
      ]
    },
    {
      "cell_type": "markdown",
      "source": [
        "Assignment Part 4"
      ],
      "metadata": {
        "id": "UxMJ0-tTPHE5"
      }
    },
    {
      "cell_type": "code",
      "source": [
        "def calcTuition(credits):\n",
        "  if credits>=12:\n",
        "    return 2000\n",
        "  else:\n",
        "    return 1200+1700*credits\n",
        "\n",
        "def main():\n",
        "  credits = int(input(\"Enter the number of credits: \"))\n",
        "  tuition = calcTuition(credits)\n",
        "  print(\"Tuition for the semester: \", tuition)\n",
        "\n",
        "main()"
      ],
      "metadata": {
        "colab": {
          "base_uri": "https://localhost:8080/"
        },
        "id": "PNrCsSrzUeaR",
        "outputId": "7e0c6905-91b1-432e-994f-858c2e6cb713"
      },
      "execution_count": null,
      "outputs": [
        {
          "output_type": "stream",
          "name": "stdout",
          "text": [
            "Enter the number of credits: 0\n",
            "Tuition for the semester:  1200\n"
          ]
        }
      ]
    }
  ]
}
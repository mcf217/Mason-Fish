{
  "nbformat": 4,
  "nbformat_minor": 0,
  "metadata": {
    "colab": {
      "provenance": [],
      "authorship_tag": "ABX9TyMYG+mWnun7Hotz44h82ug7",
      "include_colab_link": true
    },
    "kernelspec": {
      "name": "python3",
      "display_name": "Python 3"
    },
    "language_info": {
      "name": "python"
    }
  },
  "cells": [
    {
      "cell_type": "markdown",
      "metadata": {
        "id": "view-in-github",
        "colab_type": "text"
      },
      "source": [
        "<a href=\"https://colab.research.google.com/github/mcf217/Mason-Fish/blob/main/Point_Assignment_Mason_Fish_BTE_320.ipynb\" target=\"_parent\"><img src=\"https://colab.research.google.com/assets/colab-badge.svg\" alt=\"Open In Colab\"/></a>"
      ]
    },
    {
      "cell_type": "code",
      "execution_count": 3,
      "metadata": {
        "colab": {
          "base_uri": "https://localhost:8080/"
        },
        "id": "7P5IJu98BtGa",
        "outputId": "a29473a0-8273-4a87-ba14-4dc571d07648"
      },
      "outputs": [
        {
          "output_type": "stream",
          "name": "stdout",
          "text": [
            "5.0\n",
            "5.830951894845301\n"
          ]
        }
      ],
      "source": [
        "class Point:\n",
        "  def __init__(self, x , y):\n",
        "    self.x = x\n",
        "    self.y = y\n",
        "  def distance (self, other):\n",
        "    x_diff = (self.x - other.x)**2\n",
        "    y_diff = (self.y - other.y)**2\n",
        "    return(x_diff + y_diff)** 0.5\n",
        "\n",
        "class Point3D(Point):\n",
        "  def __init__(self,x,y,z):\n",
        "    super().__init__(x,y)\n",
        "    self.z =z\n",
        "  def distance (self,other):\n",
        "    x_diff = (self.x - other.x)**2\n",
        "    y_diff = (self.y - other.y)**2\n",
        "    z_diff = (self.x - other.x)**2\n",
        "    return(x_diff +y_diff+z_diff)** 0.5\n",
        "\n",
        "p1=Point(3,4)\n",
        "p2=Point(6,8)\n",
        "print(p1.distance(p2))\n",
        "p3D_1 = Point3D(3,4,5)\n",
        "p3D_2 = Point3D(6,8,10)\n",
        "print(p3D_1.distance(p3D_2))"
      ]
    },
    {
      "cell_type": "code",
      "source": [
        "from re import A\n",
        "class Animal:\n",
        "  def __init__(self,legs):\n",
        "    self.legs = legs\n",
        "    print('Animal Created')\n",
        "  def whoAmI(self):\n",
        "    print('I am an animal')\n",
        "\n",
        "class Bird(Animal):\n",
        "  def __init__(self,wings,legs):\n",
        "    super().___init___()\n",
        "    self.wings=wings\n",
        "    print(\"Bird Created\")\n",
        "  def fly(self):\n",
        "    print(\"Birds can fly\")\n",
        "\n",
        "a=Animal(2)\n",
        "b = Bird\n"
      ],
      "metadata": {
        "colab": {
          "base_uri": "https://localhost:8080/"
        },
        "id": "eeGeg3CeDaD-",
        "outputId": "1cea47c0-1323-4de5-ab2a-84ccbdfdbf79"
      },
      "execution_count": 5,
      "outputs": [
        {
          "output_type": "stream",
          "name": "stdout",
          "text": [
            "Animal Created\n"
          ]
        }
      ]
    }
  ]
}
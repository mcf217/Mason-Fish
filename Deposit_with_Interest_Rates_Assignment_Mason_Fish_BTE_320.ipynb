{
  "nbformat": 4,
  "nbformat_minor": 0,
  "metadata": {
    "colab": {
      "provenance": [],
      "authorship_tag": "ABX9TyO9k724lgufkAxzK4Jkx7QT",
      "include_colab_link": true
    },
    "kernelspec": {
      "name": "python3",
      "display_name": "Python 3"
    },
    "language_info": {
      "name": "python"
    }
  },
  "cells": [
    {
      "cell_type": "markdown",
      "metadata": {
        "id": "view-in-github",
        "colab_type": "text"
      },
      "source": [
        "<a href=\"https://colab.research.google.com/github/mcf217/Mason-Fish/blob/main/Deposit_with_Interest_Rates_Assignment_Mason_Fish_BTE_320.ipynb\" target=\"_parent\"><img src=\"https://colab.research.google.com/assets/colab-badge.svg\" alt=\"Open In Colab\"/></a>"
      ]
    },
    {
      "cell_type": "code",
      "execution_count": null,
      "metadata": {
        "colab": {
          "base_uri": "https://localhost:8080/"
        },
        "id": "dEULsz1jhk0J",
        "outputId": "dd3cb8b8-bf05-454e-be4b-583275e27504"
      },
      "outputs": [
        {
          "output_type": "stream",
          "name": "stdout",
          "text": [
            "enter your name: Mason\n",
            "Enter Customer type ( n: new, e: existing): n\n",
            "Enter a deposit amount (in $)800\n",
            "824.0\n"
          ]
        }
      ],
      "source": [
        "name = input( \"enter your name: \")\n",
        "customer_type = input( \"Enter Customer type ( n: new, e: existing): \")\n",
        "deposit = float(input(\"Enter a deposit amount (in $)\"))\n",
        "\n",
        "if customer_type == \"n\":\n",
        "  interest = 0.03\n",
        "else:\n",
        "  if deposit <= 1000:\n",
        "    interest = 0.03\n",
        "  elif deposit <= 10000:\n",
        "    interest = 0.0325\n",
        "  elif deposit > 10000:\n",
        "    interest = 0.035\n",
        "\n",
        "total = (1+ interest) * deposit\n",
        "print(total)"
      ]
    }
  ]
}